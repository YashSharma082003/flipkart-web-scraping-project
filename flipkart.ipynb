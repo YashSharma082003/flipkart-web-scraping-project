{
 "cells": [
  {
   "attachments": {},
   "cell_type": "markdown",
   "metadata": {},
   "source": [
    "Install and Import Required Libraries"
   ]
  },
  {
   "cell_type": "code",
   "execution_count": 201,
   "metadata": {},
   "outputs": [
    {
     "name": "stdout",
     "output_type": "stream",
     "text": [
      "Requirement already satisfied: requests in c:\\users\\asus\\appdata\\local\\programs\\python\\python311\\lib\\site-packages (2.28.2)\n",
      "Requirement already satisfied: charset-normalizer<4,>=2 in c:\\users\\asus\\appdata\\local\\programs\\python\\python311\\lib\\site-packages (from requests) (3.0.1)\n",
      "Requirement already satisfied: idna<4,>=2.5 in c:\\users\\asus\\appdata\\local\\programs\\python\\python311\\lib\\site-packages (from requests) (3.4)\n",
      "Requirement already satisfied: urllib3<1.27,>=1.21.1 in c:\\users\\asus\\appdata\\local\\programs\\python\\python311\\lib\\site-packages (from requests) (1.26.13)\n",
      "Requirement already satisfied: certifi>=2017.4.17 in c:\\users\\asus\\appdata\\local\\programs\\python\\python311\\lib\\site-packages (from requests) (2022.12.7)\n",
      "Requirement already satisfied: BeautifulSoup4 in c:\\users\\asus\\appdata\\local\\programs\\python\\python311\\lib\\site-packages (4.11.1)\n",
      "Requirement already satisfied: soupsieve>1.2 in c:\\users\\asus\\appdata\\local\\programs\\python\\python311\\lib\\site-packages (from BeautifulSoup4) (2.3.2.post1)\n"
     ]
    }
   ],
   "source": [
    "!pip install requests\n",
    "!pip install BeautifulSoup4"
   ]
  },
  {
   "cell_type": "code",
   "execution_count": 202,
   "metadata": {},
   "outputs": [],
   "source": [
    "import pandas as pd\n",
    "import requests\n",
    "from bs4 import BeautifulSoup"
   ]
  },
  {
   "cell_type": "code",
   "execution_count": 203,
   "metadata": {},
   "outputs": [],
   "source": [
    "link = \"https://www.flipkart.com/search?q=mobiles%20under%2040000&otracker=search&otracker1=search&marketplace=FLIPKART&as-show=on&as=off\""
   ]
  },
  {
   "cell_type": "code",
   "execution_count": 204,
   "metadata": {},
   "outputs": [],
   "source": [
    "response = requests.get(link)"
   ]
  },
  {
   "cell_type": "code",
   "execution_count": 205,
   "metadata": {},
   "outputs": [
    {
     "data": {
      "text/plain": [
       "200"
      ]
     },
     "execution_count": 205,
     "metadata": {},
     "output_type": "execute_result"
    }
   ],
   "source": [
    "response.status_code"
   ]
  },
  {
   "cell_type": "code",
   "execution_count": 206,
   "metadata": {},
   "outputs": [
    {
     "data": {
      "text/plain": [
       "152872"
      ]
     },
     "execution_count": 206,
     "metadata": {},
     "output_type": "execute_result"
    }
   ],
   "source": [
    "len(response.text)"
   ]
  },
  {
   "cell_type": "code",
   "execution_count": 207,
   "metadata": {},
   "outputs": [],
   "source": [
    "doc = BeautifulSoup(response.text, 'html.parser')"
   ]
  },
  {
   "attachments": {},
   "cell_type": "markdown",
   "metadata": {},
   "source": [
    "Getting Names of Phone"
   ]
  },
  {
   "cell_type": "code",
   "execution_count": 208,
   "metadata": {},
   "outputs": [
    {
     "data": {
      "text/plain": [
       "'SAMSUNG Galaxy S21 FE 5G (Graphite, 128 GB)'"
      ]
     },
     "execution_count": 208,
     "metadata": {},
     "output_type": "execute_result"
    }
   ],
   "source": [
    "phone_name = doc.find_all('div',class_= \"_4rR01T\")\n",
    "phone_name[0].text"
   ]
  },
  {
   "cell_type": "code",
   "execution_count": 209,
   "metadata": {},
   "outputs": [
    {
     "name": "stdout",
     "output_type": "stream",
     "text": [
      "['SAMSUNG Galaxy S21 FE 5G (Graphite, 128 GB)', 'SAMSUNG Galaxy S21 FE 5G (Olive, 128 GB)', 'SAMSUNG Galaxy S21 FE 5G (White, 128 GB)', 'Nothing Phone (1) (White, 256 GB)', 'SAMSUNG Galaxy A73 5G (Awesome White, 128 GB)', 'MOTOROLA Edge 30 Fusion (Cosmic grey, 128 GB)', 'OPPO Reno7 Pro 5G (Starlight Black, 256 GB)', 'vivo V23 Pro 5G (Sunshine Gold, 128 GB)', 'vivo V25 Pro 5G (Pure Black, 128 GB)', 'vivo V25 Pro 5G (Sailing Blue, 128 GB)', 'Nothing Phone (1) (Black, 256 GB)', 'IQOO Neo 6 5G (Cyber Rage, 256 GB)', 'OnePlus 10R 5G (Forest Green, 128 GB)', 'Xiaomi 11T Pro 5G Hyperphone (Moonlight White, 256 GB)', 'realme GT Neo 3 (Asphalt Black, 256 GB)', 'IQOO 9 5G (Phoenix, 128 GB)', 'OnePlus 10R 5G (Sierra Black, 256 GB)', 'realme GT 2 (Steel Black, 256 GB)', 'OnePlus 10R 5G (Sierra Black, 256 GB)', 'vivo V23 Pro 5G (Stardust Black, 128 GB)', 'realme GT Neo 3 (Nitro Blue, 128 GB)', 'OnePlus 10R 5G (Forest Green, 128 GB)', 'Mi 10T (Cosmic Black, 128 GB)', 'realme GT 5G (Dashing Silver, 128 GB)']\n"
     ]
    }
   ],
   "source": [
    "Product_Name = []\n",
    "\n",
    "for i in phone_name:\n",
    "    Product_Name.append(i.text)\n",
    "\n",
    "print(Product_Name)"
   ]
  },
  {
   "attachments": {},
   "cell_type": "markdown",
   "metadata": {},
   "source": [
    "Getting Stars of Phone"
   ]
  },
  {
   "cell_type": "code",
   "execution_count": 210,
   "metadata": {},
   "outputs": [
    {
     "data": {
      "text/plain": [
       "'4.4'"
      ]
     },
     "execution_count": 210,
     "metadata": {},
     "output_type": "execute_result"
    }
   ],
   "source": [
    "star = doc.find_all('div',class_= \"_3LWZlK\")\n",
    "star[0].text"
   ]
  },
  {
   "cell_type": "code",
   "execution_count": 211,
   "metadata": {},
   "outputs": [
    {
     "name": "stdout",
     "output_type": "stream",
     "text": [
      "['4.4', '4.4', '4.4', '4.3', '4.2', '4.4', '4.3', '4.3', '4.3', '4.3', '4.3', '4.4', '4.3', '4', '4.1', '4.1', '4.2', '4.3', '4.2', '4.3', '4.1', '4.3', '4.2', '4.3', '4.3', '5', '5', '4.3', '4', '5', '4.2', '5', '5', '4.4', '5', '5', '4.4', '5', '4']\n"
     ]
    }
   ],
   "source": [
    "Stars = []\n",
    "\n",
    "for i in star:\n",
    "    Stars.append(i.text)\n",
    "\n",
    "print(Stars)\n",
    "Product_Stars = Stars[:24]"
   ]
  },
  {
   "cell_type": "code",
   "execution_count": 212,
   "metadata": {},
   "outputs": [
    {
     "data": {
      "text/plain": [
       "['30,880', 'Ratings', '&', '3,102', 'Reviews']"
      ]
     },
     "execution_count": 212,
     "metadata": {},
     "output_type": "execute_result"
    }
   ],
   "source": [
    "rating_reviews = doc.find_all('span', class_ = \"_2_R_DZ\")\n",
    "rating_reviews[0].text.split()"
   ]
  },
  {
   "attachments": {},
   "cell_type": "markdown",
   "metadata": {},
   "source": [
    "Getting Rating of Phone"
   ]
  },
  {
   "cell_type": "code",
   "execution_count": 213,
   "metadata": {},
   "outputs": [
    {
     "name": "stdout",
     "output_type": "stream",
     "text": [
      "30,880\n"
     ]
    }
   ],
   "source": [
    "rating = rating_reviews[0].text.split()[0]\n",
    "print(rating)"
   ]
  },
  {
   "cell_type": "code",
   "execution_count": 214,
   "metadata": {},
   "outputs": [
    {
     "name": "stdout",
     "output_type": "stream",
     "text": [
      "['30,880', '30,880', '30,880', '6,186', '1,292', '2,063', '7,900', '3,755', '5,779', '5,779', '6,186', '310', '1,569', '469', '817', '79', '849', '1,153', '849', '3,755', '817', '1,569', '4,021', '490']\n"
     ]
    }
   ],
   "source": [
    "Product_Rating = []\n",
    "\n",
    "for i in rating_reviews:\n",
    "    Product_Rating.append(i.text.split()[0])\n",
    "\n",
    "print(Product_Rating)"
   ]
  },
  {
   "attachments": {},
   "cell_type": "markdown",
   "metadata": {},
   "source": [
    "Getting Reviews of Phone"
   ]
  },
  {
   "cell_type": "code",
   "execution_count": 215,
   "metadata": {},
   "outputs": [
    {
     "name": "stdout",
     "output_type": "stream",
     "text": [
      "3,102\n"
     ]
    }
   ],
   "source": [
    "reviews = rating_reviews[0].text.split()[3]\n",
    "print(reviews)"
   ]
  },
  {
   "cell_type": "code",
   "execution_count": 216,
   "metadata": {},
   "outputs": [
    {
     "name": "stdout",
     "output_type": "stream",
     "text": [
      "['3,102', '3,102', '3,102', '710', '169', '379', '1,061', '410', '808', '808', '710', '38', '139', '55', '133', '6', '61', '157', '61', '410', '133', '139', '564', '79']\n"
     ]
    }
   ],
   "source": [
    "Product_Reviews = []\n",
    "\n",
    "for i in rating_reviews:\n",
    "    Product_Reviews.append(i.text.split()[3])\n",
    "\n",
    "print(Product_Reviews)"
   ]
  },
  {
   "attachments": {},
   "cell_type": "markdown",
   "metadata": {},
   "source": [
    "Getting Prices of Phone"
   ]
  },
  {
   "cell_type": "code",
   "execution_count": 228,
   "metadata": {},
   "outputs": [
    {
     "data": {
      "text/plain": [
       "'₹39,999'"
      ]
     },
     "execution_count": 228,
     "metadata": {},
     "output_type": "execute_result"
    }
   ],
   "source": [
    "price = doc.find_all('div',class_ = \"_30jeq3 _1_WHN1\")\n",
    "price[0].text"
   ]
  },
  {
   "cell_type": "code",
   "execution_count": 229,
   "metadata": {},
   "outputs": [
    {
     "name": "stdout",
     "output_type": "stream",
     "text": [
      "['₹39,999', '₹39,999', '₹39,999', '₹35,999', '₹41,999', '₹39,999', '₹34,999', '₹38,990', '₹35,999', '₹35,999', '₹35,999', '₹33,790', '₹35,999', '₹36,990', '₹38,999', '₹34,990', '₹37,899', '₹38,999', '₹40,699', '₹38,990', '₹36,999', '₹35,990', '₹35,999', '₹37,999']\n"
     ]
    }
   ],
   "source": [
    "Product_Price_After_Discount = []\n",
    "\n",
    "for i in price:\n",
    "    Product_Price_After_Discount.append(i.text)\n",
    "\n",
    "print(Product_Price_After_Discount)"
   ]
  },
  {
   "attachments": {},
   "cell_type": "markdown",
   "metadata": {},
   "source": [
    "Getting Description of Phone"
   ]
  },
  {
   "cell_type": "code",
   "execution_count": 219,
   "metadata": {},
   "outputs": [
    {
     "data": {
      "text/plain": [
       "'8 GB RAM | 128 GB ROM16.26 cm (6.4 inch) Full HD+ Display12MP + 12MP + 8MP (OIS) | 32MP Front Camera4500 mAh Lithium-ion Battery1 Year Manufacturer Warranty for Device and 6 Months Manufacturer Warranty for In-Box Accessories'"
      ]
     },
     "execution_count": 219,
     "metadata": {},
     "output_type": "execute_result"
    }
   ],
   "source": [
    "details = doc.find_all('ul',class_=\"_1xgFaf\")\n",
    "details[0].text"
   ]
  },
  {
   "cell_type": "code",
   "execution_count": 220,
   "metadata": {},
   "outputs": [
    {
     "name": "stdout",
     "output_type": "stream",
     "text": [
      "['8 GB RAM | 128 GB ROM16.26 cm (6.4 inch) Full HD+ Display12MP + 12MP + 8MP (OIS) | 32MP Front Camera4500 mAh Lithium-ion Battery1 Year Manufacturer Warranty for Device and 6 Months Manufacturer Warranty for In-Box Accessories', '8 GB RAM | 128 GB ROM16.26 cm (6.4 inch) Full HD+ Display12MP + 12MP + 8MP (OIS) | 32MP Front Camera4500 mAh Lithium-ion Battery1 Year Manufacturer Warranty for Device and 6 Months Manufacturer Warranty for In-Box Accessories', '8 GB RAM | 128 GB ROM16.26 cm (6.4 inch) Full HD+ Display12MP + 12MP + 8MP (OIS) | 32MP Front Camera4500 mAh Lithium-ion Battery1 Year Manufacturer Warranty for Device and 6 Months Manufacturer Warranty for In-Box Accessories', '12 GB RAM | 256 GB ROM16.64 cm (6.55 inch) Full HD+ Display50MP + 50MP | 16MP Front Camera4500 mAh Lithium-ion BatteryQualcomm Snapdragon 778G+ ProcessorMeet the Glyph Interface. A New Way to Communicate1 Billion Colours, True-to-Life Full HD Flexible OLED Display with HDR10+ for Richer Colour and Deeper Contrasts.1 Year Warranty', '8 GB RAM | 128 GB ROM | Expandable Upto 1 TB17.02 cm (6.7 inch) Full HD+ Display108MP + 12MP + 5MP + 5MP | 32MP Front Camera5000 mAh Li-ion BatteryQualcomm Snapdragon 778G Processor1 Year Manufacturer Warranty for Device and 6 Months Manufacturer Warranty for In-Box', '8 GB RAM | 128 GB ROM16.64 cm (6.55 inch) Full HD+ Display50MP + 13MP + 2MP | 32MP Front Camera4400 mAh Lithium BatteryQualcomm Snapdragon 888 + Processor1 Year on Handset and 6 Months on Accessories', '12 GB RAM | 256 GB ROM16.51 cm (6.5 inch) Full HD+ AMOLED Display50MP + 8MP + 2MP | 32MP Front Camera4500 mAh Lithium-ion Polymer BatteryMediaTek Dimensity 1200-Max Processor65W SuperVOOC | OPPO Sony IMX766 Flagship Rear Camera SensorAircraft-Grade Shooting Star Design | OPPO Glow1 Year Warranty for Phone and 6 Months Warranty for In-Box Accessories', '8 GB RAM | 128 GB ROM16.66 cm (6.56 inch) Full HD+ Display108MP + 8MP + 2MP | 50MP + 8MP Dual Front Camera4300 mAh Lithium BatteryMediatek Dimensity 1200 Processor1 Year Manufacturer Warranty for Phone and 6 Months Warranty for In the Box Accessories', '8 GB RAM | 128 GB ROM16.66 cm (6.56 inch) Full HD+ Display64MP + 8MP + 2MP | 32MP Front Camera4830 mAh Lithium BatteryMediatek Dimensity 1300 ProcessorColor Changing Fluorite AG Glass Design120 Hz 3D Curve Display1 Year on Handset and 6 Months on Accessories', '8 GB RAM | 128 GB ROM16.66 cm (6.56 inch) Full HD+ Display64MP + 8MP + 2MP | 32MP Front Camera4830 mAh Lithium BatteryMediatek Dimensity 1300 ProcessorColor Changing Fluorite AG Glass Design120 Hz 3D Curve Display1 Year on Handset and 6 Months on Accessories', '12 GB RAM | 256 GB ROM16.64 cm (6.55 inch) Full HD+ Display50MP + 50MP | 16MP Front Camera4500 mAh Lithium-ion BatteryQualcomm Snapdragon 778G+ ProcessorMeet the Glyph Interface. A New Way to Communicate1 Billion Colours, True-to-Life Full HD Flexible OLED Display with HDR10+ for Richer Colour and Deeper Contrasts.1 Year Warranty', '12 GB RAM | 256 GB ROM16.81 cm (6.62 inch) Display64MP Rear Camera4700 mAh Battery1 Year', '8 GB RAM | 128 GB ROM17.02 cm (6.7 inch) Display50MP Rear Camera5000 mAh Battery12 months', '8 GB RAM | 256 GB ROM16.94 cm (6.67 inch) Display108MP Rear Camera5000 mAh Battery12 months', '8 GB RAM | 256 GB ROM17.02 cm (6.7 inch) Full HD+ Display50MP + 8MP + 2MP | 16MP Front Camera5000 mAh Lithium Ion BatteryMediatek Dimensity 8100 Processor1 Year Manufacturer Warranty for Phone and 6 Months Warranty for In-Box Accessories', '8 GB RAM | 128 GB ROM16.66 cm (6.56 inch) Display48MP + 48MP + 13MP + 13MP | 16MP + 16MP Dual Front Camera4350 mAh Battery1 Year', '12 GB RAM | 256 GB ROM17.02 cm (6.7 inch) Display50MP Rear Camera5000 mAh Battery1 Year Manufacturer Warranty for Handset and 6 Months Warranty for In the Box Accessories', '12 GB RAM | 256 GB ROM16.81 cm (6.62 inch) Full HD+ AMOLED Display50MP + 8MP + 2MP | 16MP Front Camera5000 mAh Lithium Ion BatteryQualcomm Snapdragon 888 Processor1 Year Manufacturer Warranty for Phone and 6 Months Warranty for In-Box Accessories', '12 GB RAM | 256 GB ROM17.02 cm (6.7 inch) Display50MP Rear Camera4500 mAh Battery1 Year Manufacturer Warranty for Handset and 6 Months Warranty for In the Box Accessories', '8 GB RAM | 128 GB ROM | Expandable Upto 12 GB16.66 cm (6.56 inch) Full HD+ Display108MP + 8MP + 2MP | 50MP + 8MP Dual Front Camera4300 mAh Lithium BatteryMediatek Dimensity 1200 Processor1 Year Manufacturer Warranty for Phone and 6 Months Warranty for In the Box Accessories', '8 GB RAM | 128 GB ROM17.02 cm (6.7 inch) Full HD+ Display50MP + 8MP + 2MP | 16MP Front Camera5000 mAh Lithium Ion BatteryMediatek Dimensity 8100 Processor1 Year Manufacturer Warranty for Phone and 6 Months Warranty for In-Box Accessories', '8 GB RAM | 128 GB ROM17.02 cm (6.7 inch) Display50MP Rear Camera5000 mAh Battery1 Year Manufacturer Warranty for Handset and 6 Months Warranty for In the Box Accessories', '6 GB RAM | 128 GB ROM16.94 cm (6.67 inch) Full HD+ Display64MP + 13MP + 5MP | 20MP Front Camera5000 mAh Li-ion Polymer BatteryQualcomm Snapdragon 865 Processor144Hz Intelligent AdaptiveSync Display33W Dual Split Flash Charge1 Year Manufacturer Warranty for Device and 6 Months Manufacturer Warranty for In-box Accessories', '8 GB RAM | 128 GB ROM16.33 cm (6.43 inch) Full HD+ Display64MP + 8MP + 2MP | 16MP Front Camera4500 mAh BatteryQualcomm Snapdragon 888 Processor1 Year Warranty for Mobile and 6 Months for Accessories']\n"
     ]
    }
   ],
   "source": [
    "Product_Description = []\n",
    "\n",
    "for i in details:\n",
    "    Product_Description.append(i.text)\n",
    "\n",
    "print(Product_Description)"
   ]
  },
  {
   "attachments": {},
   "cell_type": "markdown",
   "metadata": {},
   "source": [
    "Getting Images of Phone"
   ]
  },
  {
   "cell_type": "code",
   "execution_count": 221,
   "metadata": {},
   "outputs": [
    {
     "data": {
      "text/plain": [
       "'https://rukminim1.flixcart.com/image/312/312/kzrbiq80/mobile/h/x/n/galaxy-s21-fe-5g-sm-g990ezaiinu-samsung-original-imagbpfzbrnueypq.jpeg?q=70'"
      ]
     },
     "execution_count": 221,
     "metadata": {},
     "output_type": "execute_result"
    }
   ],
   "source": [
    "images = doc.find_all('img',class_=\"_396cs4\")\n",
    "images[0]['src']"
   ]
  },
  {
   "cell_type": "code",
   "execution_count": 222,
   "metadata": {},
   "outputs": [
    {
     "name": "stdout",
     "output_type": "stream",
     "text": [
      "['https://rukminim1.flixcart.com/image/312/312/kzrbiq80/mobile/h/x/n/galaxy-s21-fe-5g-sm-g990ezaiinu-samsung-original-imagbpfzbrnueypq.jpeg?q=70', 'https://rukminim1.flixcart.com/image/312/312/kz7bcsw0/screen-guard/front-and-back-screen-guard/o/p/j/rr44-twenteesky-original-imagb9dh2hm4fzhw.jpeg?q=70', 'https://rukminim1.flixcart.com/image/312/312/l30hmkw0/mobile/w/j/o/galaxy-s21-fe-5g-sm-g990ewziinu-samsung-original-image8dzwv3bch4k.jpeg?q=70', 'https://rukminim1.flixcart.com/image/312/312/l5h2xe80/mobile/4/7/l/-original-imagg4y3grhaxckf.jpeg?q=70', 'https://rukminim1.flixcart.com/image/312/312/l3xcr680/mobile/g/i/u/-original-imagexf3spjgyezy.jpeg?q=70', 'https://rukminim1.flixcart.com/image/312/312/xif0q/mobile/6/f/k/-original-imagg34whmtp6p5s.jpeg?q=70', 'https://rukminim1.flixcart.com/image/312/312/kzhbfrk0/mobile/0/r/j/-original-imagbgxffuvx56mm.jpeg?q=70', 'https://rukminim1.flixcart.com/image/312/312/ky0g58w0/mobile/j/b/c/-original-imagabvqgqdhaacc.jpeg?q=70', 'https://rukminim1.flixcart.com/image/312/312/xif0q/mobile/x/u/g/-original-imagh4fnw28yghma.jpeg?q=70', 'https://rukminim1.flixcart.com/image/312/312/xif0q/mobile/5/q/j/-original-imagh4fnprjvgzzj.jpeg?q=70', 'https://rukminim1.flixcart.com/image/312/312/l5h2xe80/mobile/5/x/r/-original-imagg4xza5rehdqv.jpeg?q=70', 'https://rukminim1.flixcart.com/image/312/312/xif0q/mobile/f/c/o/-original-imagg59gzac7ypwh.jpeg?q=70', 'https://rukminim1.flixcart.com/image/312/312/xif0q/mobile/j/b/o/-original-imageypzw8gumvyz.jpeg?q=70', 'https://rukminim1.flixcart.com/image/312/312/kyoqmq80/mobile/f/m/b/11t-pro-5g-11t-mi-original-imagauz3cr3wzrhg.jpeg?q=70', 'https://rukminim1.flixcart.com/image/312/312/l3rmzrk0/mobile/h/a/n/-original-imagetmezh7hj2zk.jpeg?q=70', 'https://rukminim1.flixcart.com/image/312/312/l5ld8y80/mobile/t/o/y/9-5g-i2017-iqoo-original-imagg8bbhfrrgffm.jpeg?q=70', 'https://rukminim1.flixcart.com/image/312/312/xif0q/mobile/8/d/t/-original-imaggceexfwc4huw.jpeg?q=70', 'https://rukminim1.flixcart.com/image/312/312/l3rmzrk0/mobile/2/l/k/-original-imagetmebhg9thpv.jpeg?q=70', 'https://rukminim1.flixcart.com/image/312/312/xif0q/mobile/h/b/s/-original-imaggceexfwc4huw.jpeg?q=70', 'https://rukminim1.flixcart.com/image/312/312/ky0g58w0/mobile/a/n/d/-original-imagabvqhyaah4vh.jpeg?q=70', 'https://rukminim1.flixcart.com/image/312/312/l3rmzrk0/mobile/a/f/2/-original-imagetmecznbydne.jpeg?q=70', 'https://rukminim1.flixcart.com/image/312/312/xif0q/mobile/3/i/e/-original-imaggceehhfzkfgd.jpeg?q=70', 'https://rukminim1.flixcart.com/image/312/312/kg6vfrk0/mobile/h/m/z/mi-10t-mzb07zain-original-imafwhbyyvhd3g9v.jpeg?q=70', 'https://rukminim1.flixcart.com/image/312/312/l3rmzrk0/mobile/f/z/n/-original-imagetme3gzbnc3z.jpeg?q=70', 'https://rukminim1.flixcart.com/image/300/300/kzhbfrk0/mobile/0/r/j/-original-imagbgxffuvx56mm.jpeg?q=90', 'https://rukminim1.flixcart.com/image/300/300/l3rmzrk0/mobile/f/z/n/-original-imagetme3gzbnc3z.jpeg?q=90', 'https://rukminim1.flixcart.com/image/300/300/xif0q/mobile/8/d/t/-original-imaggceexfwc4huw.jpeg?q=90', 'https://rukminim1.flixcart.com/image/300/300/xif0q/mobile/f/c/o/-original-imagg59gzac7ypwh.jpeg?q=90', 'https://rukminim1.flixcart.com/image/300/300/l30hmkw0/mobile/w/j/o/galaxy-s21-fe-5g-sm-g990ewziinu-samsung-original-image8dzwv3bch4k.jpeg?q=90']\n"
     ]
    }
   ],
   "source": [
    "Images = []\n",
    "\n",
    "for i in images:\n",
    "    Images.append(i['src'])\n",
    "\n",
    "print(Images)\n",
    "Product_Images = Images[:24]"
   ]
  },
  {
   "attachments": {},
   "cell_type": "markdown",
   "metadata": {},
   "source": [
    "Getting Url of Phone"
   ]
  },
  {
   "cell_type": "code",
   "execution_count": 223,
   "metadata": {},
   "outputs": [],
   "source": [
    "links = doc.find_all('div',class_=\"_2kHMtA\")\n",
    "base_link = 'https://flipkart.com'"
   ]
  },
  {
   "cell_type": "code",
   "execution_count": 224,
   "metadata": {},
   "outputs": [
    {
     "name": "stdout",
     "output_type": "stream",
     "text": [
      "['https://flipkart.com/samsung-galaxy-s21-fe-5g-graphite-128-gb/p/itm7be0f72fff180?pid=MOBGBPFZSPRG8GSU&lid=LSTMOBGBPFZSPRG8GSUYZCRY0&marketplace=FLIPKART&q=mobiles+under+40000&store=tyy%2F4io&spotlightTagId=BestsellerId_tyy%2F4io&srno=s_1_1&otracker=search&otracker1=search&fm=organic&iid=7c96898d-444d-4014-b2cc-cc3e417cdefa.MOBGBPFZSPRG8GSU.SEARCH&ppt=None&ppn=None&ssid=ah3q1yo5e80000001674351774886&qH=21d1d183b6cd5f21', 'https://flipkart.com/samsung-galaxy-s21-fe-5g-olive-128-gb/p/itm76e6e65136e17?pid=MOBGCKMEMZE5UJXK&lid=LSTMOBGCKMEMZE5UJXK6LPNPI&marketplace=FLIPKART&q=mobiles+under+40000&store=tyy%2F4io&srno=s_1_2&otracker=search&otracker1=search&fm=organic&iid=7c96898d-444d-4014-b2cc-cc3e417cdefa.MOBGCKMEMZE5UJXK.SEARCH&ppt=None&ppn=None&ssid=ah3q1yo5e80000001674351774886&qH=21d1d183b6cd5f21', 'https://flipkart.com/samsung-galaxy-s21-fe-5g-white-128-gb/p/itme7ee482a0b7f0?pid=MOBGE8DZ5VYDPUZT&lid=LSTMOBGE8DZ5VYDPUZTM0ZPM7&marketplace=FLIPKART&q=mobiles+under+40000&store=tyy%2F4io&srno=s_1_3&otracker=search&otracker1=search&fm=organic&iid=7c96898d-444d-4014-b2cc-cc3e417cdefa.MOBGE8DZ5VYDPUZT.SEARCH&ppt=None&ppn=None&ssid=ah3q1yo5e80000001674351774886&qH=21d1d183b6cd5f21', 'https://flipkart.com/nothing-phone-1-white-256-gb/p/itmeea53a564de47?pid=MOBGCYGPYZCNURHT&lid=LSTMOBGCYGPYZCNURHTHRLY1L&marketplace=FLIPKART&q=mobiles+under+40000&store=tyy%2F4io&srno=s_1_4&otracker=search&otracker1=search&fm=organic&iid=7c96898d-444d-4014-b2cc-cc3e417cdefa.MOBGCYGPYZCNURHT.SEARCH&ppt=None&ppn=None&ssid=ah3q1yo5e80000001674351774886&qH=21d1d183b6cd5f21', 'https://flipkart.com/samsung-galaxy-a73-5g-awesome-white-128-gb/p/itmed680406c51bb?pid=MOBGCS4JZJEENBRP&lid=LSTMOBGCS4JZJEENBRP2JEI57&marketplace=FLIPKART&q=mobiles+under+40000&store=tyy%2F4io&srno=s_1_5&otracker=search&otracker1=search&fm=organic&iid=7c96898d-444d-4014-b2cc-cc3e417cdefa.MOBGCS4JZJEENBRP.SEARCH&ppt=None&ppn=None&ssid=ah3q1yo5e80000001674351774886&qH=21d1d183b6cd5f21', 'https://flipkart.com/motorola-edge-30-fusion-cosmic-grey-128-gb/p/itmcc103ec39dbdf?pid=MOBGFGM2XEFCJYQF&lid=LSTMOBGFGM2XEFCJYQFLXCJS0&marketplace=FLIPKART&q=mobiles+under+40000&store=tyy%2F4io&srno=s_1_6&otracker=search&otracker1=search&fm=organic&iid=7c96898d-444d-4014-b2cc-cc3e417cdefa.MOBGFGM2XEFCJYQF.SEARCH&ppt=None&ppn=None&ssid=ah3q1yo5e80000001674351774886&qH=21d1d183b6cd5f21', 'https://flipkart.com/oppo-reno7-pro-5g-starlight-black-256-gb/p/itm9a6b0ca45fe90?pid=MOBGBYH5H33KFUFY&lid=LSTMOBGBYH5H33KFUFYJBGMJQ&marketplace=FLIPKART&q=mobiles+under+40000&store=tyy%2F4io&srno=s_1_7&otracker=search&otracker1=search&fm=organic&iid=7c96898d-444d-4014-b2cc-cc3e417cdefa.MOBGBYH5H33KFUFY.SEARCH&ppt=None&ppn=None&ssid=ah3q1yo5e80000001674351774886&qH=21d1d183b6cd5f21', 'https://flipkart.com/vivo-v23-pro-5g-sunshine-gold-128-gb/p/itmf5550a0e86c82?pid=MOBGA25PGEV4JU9K&lid=LSTMOBGA25PGEV4JU9KVL9U1H&marketplace=FLIPKART&q=mobiles+under+40000&store=tyy%2F4io&srno=s_1_8&otracker=search&otracker1=search&fm=organic&iid=7c96898d-444d-4014-b2cc-cc3e417cdefa.MOBGA25PGEV4JU9K.SEARCH&ppt=None&ppn=None&ssid=ah3q1yo5e80000001674351774886&qH=21d1d183b6cd5f21', 'https://flipkart.com/vivo-v25-pro-5g-pure-black-128-gb/p/itmeccdbf93bbfc6?pid=MOBGGRB79Z4ANQ9G&lid=LSTMOBGGRB79Z4ANQ9GWMMCKW&marketplace=FLIPKART&q=mobiles+under+40000&store=tyy%2F4io&srno=s_1_9&otracker=search&otracker1=search&fm=organic&iid=7c96898d-444d-4014-b2cc-cc3e417cdefa.MOBGGRB79Z4ANQ9G.SEARCH&ppt=None&ppn=None&ssid=ah3q1yo5e80000001674351774886&qH=21d1d183b6cd5f21', 'https://flipkart.com/vivo-v25-pro-5g-sailing-blue-128-gb/p/itmeccdbf93bbfc6?pid=MOBGGRB7RBZ6ESFV&lid=LSTMOBGGRB7RBZ6ESFVHDCPTH&marketplace=FLIPKART&q=mobiles+under+40000&store=tyy%2F4io&srno=s_1_10&otracker=search&otracker1=search&fm=organic&iid=7c96898d-444d-4014-b2cc-cc3e417cdefa.MOBGGRB7RBZ6ESFV.SEARCH&ppt=None&ppn=None&ssid=ah3q1yo5e80000001674351774886&qH=21d1d183b6cd5f21', 'https://flipkart.com/nothing-phone-1-black-256-gb/p/itmeea53a564de47?pid=MOBGCYGPXKY9H62J&lid=LSTMOBGCYGPXKY9H62JOABLMR&marketplace=FLIPKART&q=mobiles+under+40000&store=tyy%2F4io&srno=s_1_11&otracker=search&otracker1=search&fm=organic&iid=7c96898d-444d-4014-b2cc-cc3e417cdefa.MOBGCYGPXKY9H62J.SEARCH&ppt=None&ppn=None&ssid=ah3q1yo5e80000001674351774886&qH=21d1d183b6cd5f21', 'https://flipkart.com/iqoo-neo-6-5g-cyber-rage-256-gb/p/itm77834ad6719bb?pid=MOBGHBNGJGBPH3MF&lid=LSTMOBGHBNGJGBPH3MFDPLW93&marketplace=FLIPKART&q=mobiles+under+40000&store=tyy%2F4io&srno=s_1_12&otracker=search&otracker1=search&fm=organic&iid=7c96898d-444d-4014-b2cc-cc3e417cdefa.MOBGHBNGJGBPH3MF.SEARCH&ppt=None&ppn=None&ssid=ah3q1yo5e80000001674351774886&qH=21d1d183b6cd5f21', 'https://flipkart.com/oneplus-10r-5g-forest-green-128-gb/p/itmccf45a394ea16?pid=MOBGEYQYTGBKEVAA&lid=LSTMOBGEYQYTGBKEVAAHUULH2&marketplace=FLIPKART&q=mobiles+under+40000&store=tyy%2F4io&srno=s_1_13&otracker=search&otracker1=search&fm=organic&iid=7c96898d-444d-4014-b2cc-cc3e417cdefa.MOBGEYQYTGBKEVAA.SEARCH&ppt=None&ppn=None&ssid=ah3q1yo5e80000001674351774886&qH=21d1d183b6cd5f21', 'https://flipkart.com/xiaomi-11t-pro-5g-hyperphone-moonlight-white-256-gb/p/itmc9e9597986ec5?pid=MOBGB74URFDJ3EGH&lid=LSTMOBGB74URFDJ3EGHWPSDGQ&marketplace=FLIPKART&q=mobiles+under+40000&store=tyy%2F4io&srno=s_1_14&otracker=search&otracker1=search&fm=organic&iid=7c96898d-444d-4014-b2cc-cc3e417cdefa.MOBGB74URFDJ3EGH.SEARCH&ppt=None&ppn=None&ssid=ah3q1yo5e80000001674351774886&qH=21d1d183b6cd5f21', 'https://flipkart.com/realme-gt-neo-3-asphalt-black-256-gb/p/itmeaf638d4d125d?pid=MOBGDCFZQQTNPAH4&lid=LSTMOBGDCFZQQTNPAH4NGN46T&marketplace=FLIPKART&q=mobiles+under+40000&store=tyy%2F4io&srno=s_1_15&otracker=search&otracker1=search&fm=organic&iid=7c96898d-444d-4014-b2cc-cc3e417cdefa.MOBGDCFZQQTNPAH4.SEARCH&ppt=None&ppn=None&ssid=ah3q1yo5e80000001674351774886&qH=21d1d183b6cd5f21', 'https://flipkart.com/iqoo-9-5g-phoenix-128-gb/p/itm110e7ab2f437e?pid=MOBGG8U7H6RGBJVZ&lid=LSTMOBGG8U7H6RGBJVZQJE50F&marketplace=FLIPKART&q=mobiles+under+40000&store=tyy%2F4io&srno=s_1_16&otracker=search&otracker1=search&fm=organic&iid=7c96898d-444d-4014-b2cc-cc3e417cdefa.MOBGG8U7H6RGBJVZ.SEARCH&ppt=None&ppn=None&ssid=ah3q1yo5e80000001674351774886&qH=21d1d183b6cd5f21', 'https://flipkart.com/oneplus-10r-5g-sierra-black-256-gb/p/itmccf45a394ea16?pid=MOBGHBZHPKYXW8PA&lid=LSTMOBGHBZHPKYXW8PADRWHMV&marketplace=FLIPKART&q=mobiles+under+40000&store=tyy%2F4io&srno=s_1_17&otracker=search&otracker1=search&fm=organic&iid=7c96898d-444d-4014-b2cc-cc3e417cdefa.MOBGHBZHPKYXW8PA.SEARCH&ppt=None&ppn=None&ssid=ah3q1yo5e80000001674351774886&qH=21d1d183b6cd5f21', 'https://flipkart.com/realme-gt-2-steel-black-256-gb/p/itmac4c08a9eb2da?pid=MOBGDAT7WGRC9YGQ&lid=LSTMOBGDAT7WGRC9YGQEELT68&marketplace=FLIPKART&q=mobiles+under+40000&store=tyy%2F4io&srno=s_1_18&otracker=search&otracker1=search&fm=organic&iid=7c96898d-444d-4014-b2cc-cc3e417cdefa.MOBGDAT7WGRC9YGQ.SEARCH&ppt=None&ppn=None&ssid=ah3q1yo5e80000001674351774886&qH=21d1d183b6cd5f21', 'https://flipkart.com/oneplus-10r-5g-sierra-black-256-gb/p/itmccf45a394ea16?pid=MOBGGA29CAYJC3QH&lid=LSTMOBGGA29CAYJC3QHGQNS6L&marketplace=FLIPKART&q=mobiles+under+40000&store=tyy%2F4io&srno=s_1_19&otracker=search&otracker1=search&fm=organic&iid=7c96898d-444d-4014-b2cc-cc3e417cdefa.MOBGGA29CAYJC3QH.SEARCH&ppt=None&ppn=None&ssid=ah3q1yo5e80000001674351774886&qH=21d1d183b6cd5f21', 'https://flipkart.com/vivo-v23-pro-5g-stardust-black-128-gb/p/itmf5550a0e86c82?pid=MOBGA25PHHN2GUWD&lid=LSTMOBGA25PHHN2GUWDF8BAT3&marketplace=FLIPKART&q=mobiles+under+40000&store=tyy%2F4io&srno=s_1_20&otracker=search&otracker1=search&fm=organic&iid=7c96898d-444d-4014-b2cc-cc3e417cdefa.MOBGA25PHHN2GUWD.SEARCH&ppt=None&ppn=None&ssid=ah3q1yo5e80000001674351774886&qH=21d1d183b6cd5f21', 'https://flipkart.com/realme-gt-neo-3-nitro-blue-128-gb/p/itmeaf638d4d125d?pid=MOBGDCFZKSFUTWRC&lid=LSTMOBGDCFZKSFUTWRCECMRNZ&marketplace=FLIPKART&q=mobiles+under+40000&store=tyy%2F4io&srno=s_1_21&otracker=search&otracker1=search&fm=organic&iid=7c96898d-444d-4014-b2cc-cc3e417cdefa.MOBGDCFZKSFUTWRC.SEARCH&ppt=None&ppn=None&ssid=ah3q1yo5e80000001674351774886&qH=21d1d183b6cd5f21', 'https://flipkart.com/oneplus-10r-5g-forest-green-128-gb/p/itmccf45a394ea16?pid=MOBGJMUHAHZN7QUP&lid=LSTMOBGJMUHAHZN7QUPE0DHVQ&marketplace=FLIPKART&q=mobiles+under+40000&store=tyy%2F4io&srno=s_1_22&otracker=search&otracker1=search&fm=organic&iid=7c96898d-444d-4014-b2cc-cc3e417cdefa.MOBGJMUHAHZN7QUP.SEARCH&ppt=None&ppn=None&ssid=ah3q1yo5e80000001674351774886&qH=21d1d183b6cd5f21', 'https://flipkart.com/mi-10t-cosmic-black-128-gb/p/itm58cc0f1ad2682?pid=MOBFWAFZPGHZSHA7&lid=LSTMOBFWAFZPGHZSHA7ZOPND9&marketplace=FLIPKART&q=mobiles+under+40000&store=tyy%2F4io&srno=s_1_23&otracker=search&otracker1=search&fm=organic&iid=7c96898d-444d-4014-b2cc-cc3e417cdefa.MOBFWAFZPGHZSHA7.SEARCH&ppt=None&ppn=None&ssid=ah3q1yo5e80000001674351774886&qH=21d1d183b6cd5f21', 'https://flipkart.com/realme-gt-5g-dashing-silver-128-gb/p/itm9ae1d9198cd93?pid=MOBG5JPXBD9A6FTC&lid=LSTMOBG5JPXBD9A6FTCORQUW6&marketplace=FLIPKART&q=mobiles+under+40000&store=tyy%2F4io&srno=s_1_24&otracker=search&otracker1=search&fm=organic&iid=7c96898d-444d-4014-b2cc-cc3e417cdefa.MOBG5JPXBD9A6FTC.SEARCH&ppt=None&ppn=None&ssid=ah3q1yo5e80000001674351774886&qH=21d1d183b6cd5f21']\n"
     ]
    }
   ],
   "source": [
    "Product_URL = []\n",
    "\n",
    "for i in links:\n",
    "    link = i.find('a')['href']\n",
    "    Product_URL.append(base_link + link)\n",
    "\n",
    "print(Product_URL)"
   ]
  },
  {
   "attachments": {},
   "cell_type": "markdown",
   "metadata": {},
   "source": [
    "Making Dictionary"
   ]
  },
  {
   "cell_type": "code",
   "execution_count": 225,
   "metadata": {},
   "outputs": [],
   "source": [
    "phone_dict = {\n",
    "    \"Name\" : Product_Name,\n",
    "    \"Stars\" : Product_Stars,\n",
    "    \"Rating\" : Product_Rating,\n",
    "    \"Review\" : Product_Reviews,\n",
    "    \"Price\" : Product_Price_After_Discount,\n",
    "    \"Description\" : Product_Description,\n",
    "    \"Image_Link\" : Product_Images,\n",
    "    \"URL\" : Product_URL\n",
    "}"
   ]
  },
  {
   "attachments": {},
   "cell_type": "markdown",
   "metadata": {},
   "source": [
    "Convert Dictionary into Dataframe"
   ]
  },
  {
   "cell_type": "code",
   "execution_count": 226,
   "metadata": {},
   "outputs": [],
   "source": [
    "phone = pd.DataFrame(phone_dict)"
   ]
  },
  {
   "attachments": {},
   "cell_type": "markdown",
   "metadata": {},
   "source": [
    "Save Dataframe as a CSV File"
   ]
  },
  {
   "cell_type": "code",
   "execution_count": 227,
   "metadata": {},
   "outputs": [],
   "source": [
    "phone.to_csv(\"Smart_Phones_Under_50000.csv\",index=False)"
   ]
  }
 ],
 "metadata": {
  "kernelspec": {
   "display_name": "Python 3",
   "language": "python",
   "name": "python3"
  },
  "language_info": {
   "codemirror_mode": {
    "name": "ipython",
    "version": 3
   },
   "file_extension": ".py",
   "mimetype": "text/x-python",
   "name": "python",
   "nbconvert_exporter": "python",
   "pygments_lexer": "ipython3",
   "version": "3.11.1"
  },
  "orig_nbformat": 4,
  "vscode": {
   "interpreter": {
    "hash": "64924d34f5c95f261818ee0e41d58b43741dcf0b72677c10b726c1fe86046c0c"
   }
  }
 },
 "nbformat": 4,
 "nbformat_minor": 2
}
