{
 "cells": [
  {
   "cell_type": "markdown",
   "id": "7ce872e8",
   "metadata": {},
   "source": [
    "# Install and Import Libraries "
   ]
  },
  {
   "cell_type": "code",
   "execution_count": 1,
   "id": "cf538375",
   "metadata": {
    "scrolled": true
   },
   "outputs": [
    {
     "name": "stdout",
     "output_type": "stream",
     "text": [
      "Requirement already satisfied: requests in c:\\users\\asus\\appdata\\local\\programs\\python\\python311\\lib\\site-packages (2.28.2)\n",
      "Requirement already satisfied: charset-normalizer<4,>=2 in c:\\users\\asus\\appdata\\local\\programs\\python\\python311\\lib\\site-packages (from requests) (3.0.1)\n",
      "Requirement already satisfied: idna<4,>=2.5 in c:\\users\\asus\\appdata\\local\\programs\\python\\python311\\lib\\site-packages (from requests) (3.4)\n",
      "Requirement already satisfied: urllib3<1.27,>=1.21.1 in c:\\users\\asus\\appdata\\local\\programs\\python\\python311\\lib\\site-packages (from requests) (1.26.13)\n",
      "Requirement already satisfied: certifi>=2017.4.17 in c:\\users\\asus\\appdata\\local\\programs\\python\\python311\\lib\\site-packages (from requests) (2022.12.7)\n",
      "Requirement already satisfied: BeautifulSoup4 in c:\\users\\asus\\appdata\\local\\programs\\python\\python311\\lib\\site-packages (4.11.1)\n",
      "Requirement already satisfied: soupsieve>1.2 in c:\\users\\asus\\appdata\\local\\programs\\python\\python311\\lib\\site-packages (from BeautifulSoup4) (2.3.2.post1)\n"
     ]
    }
   ],
   "source": [
    "!pip install requests\n",
    "!pip install BeautifulSoup4"
   ]
  },
  {
   "cell_type": "code",
   "execution_count": 2,
   "id": "0f93fa0a",
   "metadata": {},
   "outputs": [],
   "source": [
    "import pandas as pd\n",
    "import requests\n",
    "from bs4 import BeautifulSoup"
   ]
  },
  {
   "cell_type": "code",
   "execution_count": 3,
   "id": "8f67f435",
   "metadata": {},
   "outputs": [],
   "source": [
    "link = \"https://www.flipkart.com/search?q=mobiles+under+40000&otracker=search&otracker1=search&marketplace=FLIPKART&as-show=on&as=off&page=1\""
   ]
  },
  {
   "cell_type": "code",
   "execution_count": 4,
   "id": "325825df",
   "metadata": {},
   "outputs": [],
   "source": [
    "response = requests.get(link)"
   ]
  },
  {
   "cell_type": "code",
   "execution_count": 5,
   "id": "2fced1d6",
   "metadata": {},
   "outputs": [
    {
     "data": {
      "text/plain": [
       "200"
      ]
     },
     "execution_count": 5,
     "metadata": {},
     "output_type": "execute_result"
    }
   ],
   "source": [
    "response.status_code"
   ]
  },
  {
   "cell_type": "code",
   "execution_count": 6,
   "id": "e8929f8e",
   "metadata": {},
   "outputs": [
    {
     "data": {
      "text/plain": [
       "148644"
      ]
     },
     "execution_count": 6,
     "metadata": {},
     "output_type": "execute_result"
    }
   ],
   "source": [
    "len(response.text)"
   ]
  },
  {
   "cell_type": "code",
   "execution_count": 7,
   "id": "d2566654",
   "metadata": {},
   "outputs": [],
   "source": [
    "doc = BeautifulSoup(response.text, 'html.parser')"
   ]
  },
  {
   "cell_type": "markdown",
   "id": "cceedb29",
   "metadata": {},
   "source": [
    "### Getting Names of Phone"
   ]
  },
  {
   "cell_type": "code",
   "execution_count": 8,
   "id": "661a7ff9",
   "metadata": {},
   "outputs": [
    {
     "name": "stdout",
     "output_type": "stream",
     "text": [
      "['APPLE iPhone 11 (White, 64 GB)', 'APPLE iPhone 11 (Black, 64 GB)', 'SAMSUNG Galaxy S21 FE 5G (Lavender, 128 GB)', 'GREENBERRI VIRAT', 'SAMSUNG Galaxy S21 FE 5G (Graphite, 128 GB)', 'Nothing Phone (1) (White, 256 GB)', 'MOTOROLA Edge 30 Fusion (Viva Magenta, 128 GB)', 'SAMSUNG Galaxy S21 FE 5G (Olive, 128 GB)', 'SAMSUNG Galaxy S21 FE 5G (White, 128 GB)', 'MOTOROLA Edge 30 Fusion (Solar Gold, 128 GB)', 'MOTOROLA Edge 30 Fusion (Cosmic grey, 128 GB)', 'IQOO Neo 6 5G (Cyber Rage, 256 GB)', 'vivo V23 Pro 5G (Sunshine Gold, 128 GB)', 'Mi 11X Pro 5G (Cosmic Black, 128 GB)', 'vivo V25 Pro 5G (Sailing Blue, 128 GB)', 'vivo V25 Pro 5G (Pure Black, 128 GB)', 'Mi 10T Pro (Cosmic Black, 128 GB)', 'OnePlus 10R 5G (Forest Green, 128 GB)', 'realme GT 2 (Steel Black, 256 GB)', 'vivo V23 Pro 5G (Stardust Black, 128 GB)', 'OnePlus 10R 5G (Sierra Black, 128 GB)', 'realme GT Neo 3 (Asphalt Black, 256 GB)', 'Mi 10T (Cosmic Black, 128 GB)', 'IQOO 9 5G (Phoenix, 128 GB)']\n"
     ]
    }
   ],
   "source": [
    "phone_name = doc.find_all('div',class_= \"_4rR01T\")\n",
    "\n",
    "Name = []\n",
    "\n",
    "for i in phone_name:\n",
    "    Name.append(i.text)\n",
    "\n",
    "Product_Name = Name[:24]\n",
    "print(Product_Name)"
   ]
  },
  {
   "cell_type": "markdown",
   "id": "787bc795",
   "metadata": {},
   "source": [
    "### Getting Price of Phone"
   ]
  },
  {
   "cell_type": "code",
   "execution_count": 9,
   "id": "040187de",
   "metadata": {},
   "outputs": [
    {
     "name": "stdout",
     "output_type": "stream",
     "text": [
      "['₹37,999', '₹37,999', '₹39,999', '₹849', '₹39,999', '₹35,999', '₹39,999', '₹39,999', '₹39,999', '₹39,999', '₹39,999', '₹33,750', '₹38,990', '₹30,980', '₹35,999', '₹35,999', '₹38,849', '₹34,999', '₹38,999', '₹38,990', '₹38,990', '₹38,999', '₹37,999', '₹34,990']\n"
     ]
    }
   ],
   "source": [
    "price = doc.find_all('div',class_ = \"_30jeq3 _1_WHN1\")\n",
    "\n",
    "Price = []\n",
    "\n",
    "for i in price:\n",
    "    Price.append(i.text)\n",
    "\n",
    "Product_Price = Price[:24]\n",
    "print(Product_Price)"
   ]
  },
  {
   "cell_type": "markdown",
   "id": "1d0ebdf1",
   "metadata": {},
   "source": [
    "### Getting Description of Phone"
   ]
  },
  {
   "cell_type": "code",
   "execution_count": 10,
   "id": "1ccd9507",
   "metadata": {},
   "outputs": [
    {
     "name": "stdout",
     "output_type": "stream",
     "text": [
      "['64 GB ROM15.49 cm (6.1 inch) Liquid Retina HD Display12MP + 12MP | 12MP Front CameraA13 Bionic Chip ProcessorBrand Warranty of 1 Year', '64 GB ROM15.49 cm (6.1 inch) Liquid Retina HD Display12MP + 12MP | 12MP Front CameraA13 Bionic Chip ProcessorBrand Warranty of 1 Year', '8 GB RAM | 128 GB ROM16.26 cm (6.4 inch) Full HD+ Display12MP + 12MP + 8MP (OIS) | 32MP Front Camera4500 mAh Lithium-ion Battery1 Year Manufacturer Warranty for Device and 6 Months Manufacturer Warranty for In-Box Accessories', '64 MB RAM | 64 MB ROM | Expandable Upto 32 GB4.57 cm (1.8 inch) Display2MP Rear Camera1000 mAh Battery1 Year For Mobile', '8 GB RAM | 128 GB ROM16.26 cm (6.4 inch) Full HD+ Display12MP + 12MP + 8MP (OIS) | 32MP Front Camera4500 mAh Lithium-ion Battery1 Year Manufacturer Warranty for Device and 6 Months Manufacturer Warranty for In-Box Accessories', '12 GB RAM | 256 GB ROM16.64 cm (6.55 inch) Full HD+ Display50MP + 50MP | 16MP Front Camera4500 mAh Lithium-ion BatteryQualcomm Snapdragon 778G+ ProcessorMeet the Glyph Interface. A New Way to Communicate1 Billion Colours, True-to-Life Full HD Flexible OLED Display with HDR10+ for Richer Colour and Deeper Contrasts.1 Year Warranty', '8 GB RAM | 128 GB ROM16.64 cm (6.55 inch) Full HD+ Display50MP + 13MP + 2MP | 32MP Front Camera4400 mAh Lithium BatteryQualcomm Snapdragon 888 + Processor1 Year on Handset and 6 Months on Accessories', '8 GB RAM | 128 GB ROM16.26 cm (6.4 inch) Full HD+ Display12MP + 12MP + 8MP (OIS) | 32MP Front Camera4500 mAh Lithium-ion Battery1 Year Manufacturer Warranty for Device and 6 Months Manufacturer Warranty for In-Box Accessories', '8 GB RAM | 128 GB ROM16.26 cm (6.4 inch) Full HD+ Display12MP + 12MP + 8MP (OIS) | 32MP Front Camera4500 mAh Lithium-ion Battery1 Year Manufacturer Warranty for Device and 6 Months Manufacturer Warranty for In-Box Accessories', '8 GB RAM | 128 GB ROM16.64 cm (6.55 inch) Full HD+ Display50MP + 13MP + 2MP | 32MP Front Camera4400 mAh Lithium BatteryQualcomm Snapdragon 888 + Processor1 Year on Handset and 6 Months on Accessories', '8 GB RAM | 128 GB ROM16.64 cm (6.55 inch) Full HD+ Display50MP + 13MP + 2MP | 32MP Front Camera4400 mAh Lithium BatteryQualcomm Snapdragon 888 + Processor1 Year on Handset and 6 Months on Accessories', '12 GB RAM | 256 GB ROM16.81 cm (6.62 inch) Display64MP Rear Camera4700 mAh Battery1 Year', '8 GB RAM | 128 GB ROM16.66 cm (6.56 inch) Full HD+ Display108MP + 8MP + 2MP | 50MP + 8MP Dual Front Camera4300 mAh Lithium BatteryMediatek Dimensity 1200 Processor1 Year Manufacturer Warranty for Phone and 6 Months Warranty for In the Box Accessories', '8 GB RAM | 128 GB ROM16.94 cm (6.67 inch) Full HD+ Display108MP + 8MP + 5MP | 20MP Front Camera4520 mAh BatteryQualcomm Snapdragon 888 Processor1 Year Manufacturer Warranty for Device and 6 Months Manufacturer Warranty for In-box Accessories', '8 GB RAM | 128 GB ROM16.66 cm (6.56 inch) Full HD+ Display64MP + 8MP + 2MP | 32MP Front Camera4830 mAh Lithium BatteryMediatek Dimensity 1300 ProcessorColor Changing Fluorite AG Glass Design120 Hz 3D Curve Display1 Year on Handset and 6 Months on Accessories', '8 GB RAM | 128 GB ROM16.66 cm (6.56 inch) Full HD+ Display64MP + 8MP + 2MP | 32MP Front Camera4830 mAh Lithium BatteryMediatek Dimensity 1300 ProcessorColor Changing Fluorite AG Glass Design120 Hz 3D Curve Display1 Year on Handset and 6 Months on Accessories', '8 GB RAM | 128 GB ROM16.94 cm (6.67 inch) Full HD+ Display108MP + 13MP + 5MP | 20MP Front Camera5000 mAh Li-ion Polymer BatteryQualcomm Snapdragon 865 Processor144Hz Intelligent AdaptiveSync Display33W Dual Split Flash Charge1 Year Manufacturer Warranty for Device and 6 Months Manufacturer Warranty for In-box Accessories', '8 GB RAM | 128 GB ROM17.02 cm (6.7 inch) Display50MP Rear Camera5000 mAh Battery12 months', '12 GB RAM | 256 GB ROM16.81 cm (6.62 inch) Full HD+ AMOLED Display50MP + 8MP + 2MP | 16MP Front Camera5000 mAh Lithium Ion BatteryQualcomm Snapdragon 888 Processor1 Year Manufacturer Warranty for Phone and 6 Months Warranty for In-Box Accessories', '8 GB RAM | 128 GB ROM | Expandable Upto 12 GB16.66 cm (6.56 inch) Full HD+ Display108MP + 8MP + 2MP | 50MP + 8MP Dual Front Camera4300 mAh Lithium BatteryMediatek Dimensity 1200 Processor1 Year Manufacturer Warranty for Phone and 6 Months Warranty for In the Box Accessories', '8 GB RAM | 128 GB ROM17.02 cm (6.7 inch) Display50MP Rear Camera5000 mAh Battery12 months', '8 GB RAM | 256 GB ROM17.02 cm (6.7 inch) Full HD+ Display50MP + 8MP + 2MP | 16MP Front Camera5000 mAh Lithium Ion BatteryMediatek Dimensity 8100 Processor1 Year Manufacturer Warranty for Phone and 6 Months Warranty for In-Box Accessories', '8 GB RAM | 128 GB ROM16.94 cm (6.67 inch) Full HD+ Display64MP + 13MP + 5MP | 20MP Front Camera5000 mAh Li-ion Polymer BatteryQualcomm Snapdragon 865 Processor144Hz Intelligent AdaptiveSync Display33W Dual Split Flash Charge1 Year Manufacturer Warranty for Device and 6 Months Manufacturer Warranty for In-box Accessories', '8 GB RAM | 128 GB ROM16.66 cm (6.56 inch) Display48MP + 48MP + 13MP + 13MP | 16MP + 16MP Dual Front Camera4350 mAh Battery1 Year']\n"
     ]
    }
   ],
   "source": [
    "details = doc.find_all('ul',class_=\"_1xgFaf\")\n",
    "\n",
    "Description = []\n",
    "\n",
    "for i in details:\n",
    "    Description.append(i.text)\n",
    "\n",
    "Product_Description = Description[:24]\n",
    "print(Product_Description)"
   ]
  },
  {
   "cell_type": "markdown",
   "id": "e7808bd0",
   "metadata": {},
   "source": [
    "### Getting Images of Phone"
   ]
  },
  {
   "cell_type": "code",
   "execution_count": 11,
   "id": "aeeaf916",
   "metadata": {},
   "outputs": [
    {
     "name": "stdout",
     "output_type": "stream",
     "text": [
      "['https://rukminim1.flixcart.com/image/312/312/k2jbyq80pkrrdj/mobile-refurbished/k/y/d/iphone-11-256-u-mwm82hn-a-apple-0-original-imafkg25mhaztxns.jpeg?q=70', 'https://rukminim1.flixcart.com/image/312/312/k2jbyq80pkrrdj/mobile-refurbished/x/j/s/iphone-11-128-d-mwm02hn-a-apple-0-original-imafkg242ugz8hwc.jpeg?q=70', 'https://rukminim1.flixcart.com/image/312/312/kzpw2vk0/mobile/u/o/q/galaxy-s21-fe-5g-lavender-8gb-128gb-storage-sm-g990elviinu-original-imagbnbdaj3tygup.jpeg?q=70', 'https://rukminim1.flixcart.com/image/312/312/xif0q/mobile/l/x/t/virat-virat-greenberri-original-imaghz3tygqr2qgu.jpeg?q=70', 'https://rukminim1.flixcart.com/image/312/312/kzrbiq80/mobile/h/x/n/galaxy-s21-fe-5g-sm-g990ezaiinu-samsung-original-imagbpfzbrnueypq.jpeg?q=70', 'https://rukminim1.flixcart.com/image/312/312/l5h2xe80/mobile/4/7/l/-original-imagg4y3grhaxckf.jpeg?q=70', 'https://rukminim1.flixcart.com/image/312/312/xif0q/mobile/d/f/z/-original-imaghjjuadpggm7a.jpeg?q=70', 'https://rukminim1.flixcart.com/image/312/312/kz7bcsw0/screen-guard/front-and-back-screen-guard/o/p/j/rr44-twenteesky-original-imagb9dh2hm4fzhw.jpeg?q=70', 'https://rukminim1.flixcart.com/image/312/312/l30hmkw0/mobile/w/j/o/galaxy-s21-fe-5g-sm-g990ewziinu-samsung-original-image8dzwv3bch4k.jpeg?q=70', 'https://rukminim1.flixcart.com/image/312/312/xif0q/mobile/6/9/w/-original-imagg34wducvv4ya.jpeg?q=70', 'https://rukminim1.flixcart.com/image/312/312/xif0q/mobile/6/f/k/-original-imagg34whmtp6p5s.jpeg?q=70', 'https://rukminim1.flixcart.com/image/312/312/xif0q/mobile/f/c/o/-original-imagg59gzac7ypwh.jpeg?q=70', 'https://rukminim1.flixcart.com/image/312/312/ky0g58w0/mobile/j/b/c/-original-imagabvqgqdhaacc.jpeg?q=70', 'https://rukminim1.flixcart.com/image/312/312/kox8b680/mobile/q/u/g/11x-pro-5g-11x-pro-mi-original-imag39qh8v7cw35h.jpeg?q=70', 'https://rukminim1.flixcart.com/image/312/312/xif0q/mobile/5/q/j/-original-imagh4fnprjvgzzj.jpeg?q=70', 'https://rukminim1.flixcart.com/image/312/312/xif0q/mobile/x/u/g/-original-imagh4fnw28yghma.jpeg?q=70', 'https://rukminim1.flixcart.com/image/312/312/kg6vfrk0/mobile/e/s/6/mi-10t-pro-mzb07zdin-original-imafwhbrythgcddt.jpeg?q=70', 'https://rukminim1.flixcart.com/image/312/312/xif0q/mobile/j/b/o/-original-imageypzw8gumvyz.jpeg?q=70', 'https://rukminim1.flixcart.com/image/312/312/l3rmzrk0/mobile/2/l/k/-original-imagetmebhg9thpv.jpeg?q=70', 'https://rukminim1.flixcart.com/image/312/312/ky0g58w0/mobile/a/n/d/-original-imagabvqhyaah4vh.jpeg?q=70', 'https://rukminim1.flixcart.com/image/312/312/l2qhjm80/mobile/c/f/r/10r-5g-le2608-oneplus-original-imageyq5akea25we.jpeg?q=70', 'https://rukminim1.flixcart.com/image/312/312/l3rmzrk0/mobile/h/a/n/-original-imagetmezh7hj2zk.jpeg?q=70', 'https://rukminim1.flixcart.com/image/312/312/kg6vfrk0/mobile/h/m/z/mi-10t-mzb07zain-original-imafwhbyyvhd3g9v.jpeg?q=70', 'https://rukminim1.flixcart.com/image/312/312/l5ld8y80/mobile/t/o/y/9-5g-i2017-iqoo-original-imagg8bbhfrrgffm.jpeg?q=70']\n"
     ]
    }
   ],
   "source": [
    "images = doc.find_all('img',class_=\"_396cs4\")\n",
    "\n",
    "Images = []\n",
    "\n",
    "for i in images:\n",
    "    Images.append(i['src'])\n",
    "\n",
    "Product_Images = Images[:24]\n",
    "print(Product_Images)"
   ]
  },
  {
   "cell_type": "markdown",
   "id": "8d97f4f9",
   "metadata": {},
   "source": [
    "### Getting URL of Phone"
   ]
  },
  {
   "cell_type": "code",
   "execution_count": 12,
   "id": "2fbf336f",
   "metadata": {},
   "outputs": [
    {
     "name": "stdout",
     "output_type": "stream",
     "text": [
      "['https://flipkart.com/apple-iphone-11-white-64-gb/p/itmfc6a7091eb20b?pid=MOBFWQ6BVWVEH3XE&lid=LSTMOBFWQ6BVWVEH3XEMXQMLO&marketplace=FLIPKART&q=mobiles+under+40000&store=tyy%2F4io&srno=s_1_1&otracker=search&otracker1=search&fm=organic&iid=24fac71f-5e16-41c4-988a-382a56ee5922.MOBFWQ6BVWVEH3XE.SEARCH&ppt=None&ppn=None&ssid=ieirwlx6m80000001674562841058&qH=21d1d183b6cd5f21', 'https://flipkart.com/apple-iphone-11-black-64-gb/p/itm4e5041ba101fd?pid=MOBFWQ6BXGJCEYNY&lid=LSTMOBFWQ6BXGJCEYNYZXSHRJ&marketplace=FLIPKART&q=mobiles+under+40000&store=tyy%2F4io&srno=s_1_2&otracker=search&otracker1=search&fm=organic&iid=24fac71f-5e16-41c4-988a-382a56ee5922.MOBFWQ6BXGJCEYNY.SEARCH&ppt=None&ppn=None&ssid=ieirwlx6m80000001674562841058&qH=21d1d183b6cd5f21', 'https://flipkart.com/samsung-galaxy-s21-fe-5g-lavender-128-gb/p/itm3b094762fb621?pid=MOBGBNBDZJ5Q3RXK&lid=LSTMOBGBNBDZJ5Q3RXKUCNNBS&marketplace=FLIPKART&q=mobiles+under+40000&store=tyy%2F4io&srno=s_1_3&otracker=search&otracker1=search&fm=organic&iid=24fac71f-5e16-41c4-988a-382a56ee5922.MOBGBNBDZJ5Q3RXK.SEARCH&ppt=None&ppn=None&ssid=ieirwlx6m80000001674562841058&qH=21d1d183b6cd5f21', 'https://flipkart.com/greenberri-virat/p/itm58dbace5999c9?pid=MOBGHZ3TRGEJ9R7G&lid=LSTMOBGHZ3TRGEJ9R7GOQJY0P&marketplace=FLIPKART&q=mobiles+under+40000&store=tyy%2F4io&srno=s_1_4&otracker=search&otracker1=search&fm=organic&iid=en_kmbOSFUP%2BZKJiKGuuB4ky1oI1RWxEU9yA49aGJUFuL2sPr7TWt3d6HRL7fWHzWU3tWejiVm8N7imPyi5HgxBcA%3D%3D&ppt=None&ppn=None&ssid=ieirwlx6m80000001674562841058&qH=21d1d183b6cd5f21', 'https://flipkart.com/samsung-galaxy-s21-fe-5g-graphite-128-gb/p/itm7be0f72fff180?pid=MOBGBPFZSPRG8GSU&lid=LSTMOBGBPFZSPRG8GSUYZCRY0&marketplace=FLIPKART&q=mobiles+under+40000&store=tyy%2F4io&spotlightTagId=BestsellerId_tyy%2F4io&srno=s_1_5&otracker=search&otracker1=search&fm=organic&iid=24fac71f-5e16-41c4-988a-382a56ee5922.MOBGBPFZSPRG8GSU.SEARCH&ppt=None&ppn=None&ssid=ieirwlx6m80000001674562841058&qH=21d1d183b6cd5f21', 'https://flipkart.com/nothing-phone-1-white-256-gb/p/itmeea53a564de47?pid=MOBGCYGPYZCNURHT&lid=LSTMOBGCYGPYZCNURHTHRLY1L&marketplace=FLIPKART&q=mobiles+under+40000&store=tyy%2F4io&srno=s_1_6&otracker=search&otracker1=search&fm=organic&iid=24fac71f-5e16-41c4-988a-382a56ee5922.MOBGCYGPYZCNURHT.SEARCH&ppt=None&ppn=None&ssid=ieirwlx6m80000001674562841058&qH=21d1d183b6cd5f21', 'https://flipkart.com/motorola-edge-30-fusion-viva-magenta-128-gb/p/itmbd04903ac45f7?pid=MOBGKV3EFHKFRMRR&lid=LSTMOBGKV3EFHKFRMRRT73RCP&marketplace=FLIPKART&q=mobiles+under+40000&store=tyy%2F4io&srno=s_1_7&otracker=search&otracker1=search&fm=organic&iid=24fac71f-5e16-41c4-988a-382a56ee5922.MOBGKV3EFHKFRMRR.SEARCH&ppt=None&ppn=None&ssid=ieirwlx6m80000001674562841058&qH=21d1d183b6cd5f21', 'https://flipkart.com/samsung-galaxy-s21-fe-5g-olive-128-gb/p/itm76e6e65136e17?pid=MOBGCKMEMZE5UJXK&lid=LSTMOBGCKMEMZE5UJXK6LPNPI&marketplace=FLIPKART&q=mobiles+under+40000&store=tyy%2F4io&srno=s_1_8&otracker=search&otracker1=search&fm=organic&iid=24fac71f-5e16-41c4-988a-382a56ee5922.MOBGCKMEMZE5UJXK.SEARCH&ppt=None&ppn=None&ssid=ieirwlx6m80000001674562841058&qH=21d1d183b6cd5f21', 'https://flipkart.com/samsung-galaxy-s21-fe-5g-white-128-gb/p/itme7ee482a0b7f0?pid=MOBGE8DZ5VYDPUZT&lid=LSTMOBGE8DZ5VYDPUZTM0ZPM7&marketplace=FLIPKART&q=mobiles+under+40000&store=tyy%2F4io&srno=s_1_9&otracker=search&otracker1=search&fm=organic&iid=24fac71f-5e16-41c4-988a-382a56ee5922.MOBGE8DZ5VYDPUZT.SEARCH&ppt=None&ppn=None&ssid=ieirwlx6m80000001674562841058&qH=21d1d183b6cd5f21', 'https://flipkart.com/motorola-edge-30-fusion-solar-gold-128-gb/p/itm68ac494d3a503?pid=MOBGFGM2RYYQQASG&lid=LSTMOBGFGM2RYYQQASGDTY3A2&marketplace=FLIPKART&q=mobiles+under+40000&store=tyy%2F4io&srno=s_1_10&otracker=search&otracker1=search&fm=organic&iid=24fac71f-5e16-41c4-988a-382a56ee5922.MOBGFGM2RYYQQASG.SEARCH&ppt=None&ppn=None&ssid=ieirwlx6m80000001674562841058&qH=21d1d183b6cd5f21', 'https://flipkart.com/motorola-edge-30-fusion-cosmic-grey-128-gb/p/itmcc103ec39dbdf?pid=MOBGFGM2XEFCJYQF&lid=LSTMOBGFGM2XEFCJYQFLXCJS0&marketplace=FLIPKART&q=mobiles+under+40000&store=tyy%2F4io&srno=s_1_11&otracker=search&otracker1=search&fm=organic&iid=24fac71f-5e16-41c4-988a-382a56ee5922.MOBGFGM2XEFCJYQF.SEARCH&ppt=None&ppn=None&ssid=ieirwlx6m80000001674562841058&qH=21d1d183b6cd5f21', 'https://flipkart.com/iqoo-neo-6-5g-cyber-rage-256-gb/p/itm77834ad6719bb?pid=MOBGHBNGJGBPH3MF&lid=LSTMOBGHBNGJGBPH3MFDPLW93&marketplace=FLIPKART&q=mobiles+under+40000&store=tyy%2F4io&srno=s_1_12&otracker=search&otracker1=search&fm=organic&iid=24fac71f-5e16-41c4-988a-382a56ee5922.MOBGHBNGJGBPH3MF.SEARCH&ppt=None&ppn=None&ssid=ieirwlx6m80000001674562841058&qH=21d1d183b6cd5f21', 'https://flipkart.com/vivo-v23-pro-5g-sunshine-gold-128-gb/p/itmf5550a0e86c82?pid=MOBGA25PGEV4JU9K&lid=LSTMOBGA25PGEV4JU9KVL9U1H&marketplace=FLIPKART&q=mobiles+under+40000&store=tyy%2F4io&srno=s_1_13&otracker=search&otracker1=search&fm=organic&iid=24fac71f-5e16-41c4-988a-382a56ee5922.MOBGA25PGEV4JU9K.SEARCH&ppt=None&ppn=None&ssid=ieirwlx6m80000001674562841058&qH=21d1d183b6cd5f21', 'https://flipkart.com/mi-11x-pro-5g-cosmic-black-128-gb/p/itmca65d279a84c8?pid=MOBG36HS2CKRMU8E&lid=LSTMOBG36HS2CKRMU8EGI1AVM&marketplace=FLIPKART&q=mobiles+under+40000&store=tyy%2F4io&srno=s_1_14&otracker=search&otracker1=search&fm=organic&iid=24fac71f-5e16-41c4-988a-382a56ee5922.MOBG36HS2CKRMU8E.SEARCH&ppt=None&ppn=None&ssid=ieirwlx6m80000001674562841058&qH=21d1d183b6cd5f21', 'https://flipkart.com/vivo-v25-pro-5g-sailing-blue-128-gb/p/itmeccdbf93bbfc6?pid=MOBGGRB7RBZ6ESFV&lid=LSTMOBGGRB7RBZ6ESFVHDCPTH&marketplace=FLIPKART&q=mobiles+under+40000&store=tyy%2F4io&srno=s_1_15&otracker=search&otracker1=search&fm=organic&iid=24fac71f-5e16-41c4-988a-382a56ee5922.MOBGGRB7RBZ6ESFV.SEARCH&ppt=None&ppn=None&ssid=ieirwlx6m80000001674562841058&qH=21d1d183b6cd5f21', 'https://flipkart.com/vivo-v25-pro-5g-pure-black-128-gb/p/itmeccdbf93bbfc6?pid=MOBGGRB79Z4ANQ9G&lid=LSTMOBGGRB79Z4ANQ9GWMMCKW&marketplace=FLIPKART&q=mobiles+under+40000&store=tyy%2F4io&srno=s_1_16&otracker=search&otracker1=search&fm=organic&iid=24fac71f-5e16-41c4-988a-382a56ee5922.MOBGGRB79Z4ANQ9G.SEARCH&ppt=None&ppn=None&ssid=ieirwlx6m80000001674562841058&qH=21d1d183b6cd5f21', 'https://flipkart.com/mi-10t-pro-cosmic-black-128-gb/p/itm5ff5455fec520?pid=MOBFWAFZASEEEES6&lid=LSTMOBFWAFZASEEEES6S6W5T1&marketplace=FLIPKART&q=mobiles+under+40000&store=tyy%2F4io&srno=s_1_17&otracker=search&otracker1=search&fm=organic&iid=24fac71f-5e16-41c4-988a-382a56ee5922.MOBFWAFZASEEEES6.SEARCH&ppt=None&ppn=None&ssid=ieirwlx6m80000001674562841058&qH=21d1d183b6cd5f21', 'https://flipkart.com/oneplus-10r-5g-forest-green-128-gb/p/itmccf45a394ea16?pid=MOBGEYQYTGBKEVAA&lid=LSTMOBGEYQYTGBKEVAAOV6PXV&marketplace=FLIPKART&q=mobiles+under+40000&store=tyy%2F4io&srno=s_1_18&otracker=search&otracker1=search&fm=organic&iid=24fac71f-5e16-41c4-988a-382a56ee5922.MOBGEYQYTGBKEVAA.SEARCH&ppt=None&ppn=None&ssid=ieirwlx6m80000001674562841058&qH=21d1d183b6cd5f21', 'https://flipkart.com/realme-gt-2-steel-black-256-gb/p/itmac4c08a9eb2da?pid=MOBGDAT7WGRC9YGQ&lid=LSTMOBGDAT7WGRC9YGQEELT68&marketplace=FLIPKART&q=mobiles+under+40000&store=tyy%2F4io&srno=s_1_19&otracker=search&otracker1=search&fm=organic&iid=24fac71f-5e16-41c4-988a-382a56ee5922.MOBGDAT7WGRC9YGQ.SEARCH&ppt=None&ppn=None&ssid=ieirwlx6m80000001674562841058&qH=21d1d183b6cd5f21', 'https://flipkart.com/vivo-v23-pro-5g-stardust-black-128-gb/p/itmf5550a0e86c82?pid=MOBGA25PHHN2GUWD&lid=LSTMOBGA25PHHN2GUWDF8BAT3&marketplace=FLIPKART&q=mobiles+under+40000&store=tyy%2F4io&srno=s_1_20&otracker=search&otracker1=search&fm=organic&iid=24fac71f-5e16-41c4-988a-382a56ee5922.MOBGA25PHHN2GUWD.SEARCH&ppt=None&ppn=None&ssid=ieirwlx6m80000001674562841058&qH=21d1d183b6cd5f21', 'https://flipkart.com/oneplus-10r-5g-sierra-black-128-gb/p/itm3ecf5d18ea418?pid=MOBGEYQ5U6GJTETN&lid=LSTMOBGEYQ5U6GJTETN1OWY2N&marketplace=FLIPKART&q=mobiles+under+40000&store=tyy%2F4io&srno=s_1_21&otracker=search&otracker1=search&fm=organic&iid=24fac71f-5e16-41c4-988a-382a56ee5922.MOBGEYQ5U6GJTETN.SEARCH&ppt=None&ppn=None&ssid=ieirwlx6m80000001674562841058&qH=21d1d183b6cd5f21', 'https://flipkart.com/realme-gt-neo-3-asphalt-black-256-gb/p/itmeaf638d4d125d?pid=MOBGDCFZQQTNPAH4&lid=LSTMOBGDCFZQQTNPAH4NGN46T&marketplace=FLIPKART&q=mobiles+under+40000&store=tyy%2F4io&srno=s_1_22&otracker=search&otracker1=search&fm=organic&iid=24fac71f-5e16-41c4-988a-382a56ee5922.MOBGDCFZQQTNPAH4.SEARCH&ppt=None&ppn=None&ssid=ieirwlx6m80000001674562841058&qH=21d1d183b6cd5f21', 'https://flipkart.com/mi-10t-cosmic-black-128-gb/p/itmcd714276806ef?pid=MOBFWAFZNCMVPHMZ&lid=LSTMOBFWAFZNCMVPHMZTODIGW&marketplace=FLIPKART&q=mobiles+under+40000&store=tyy%2F4io&srno=s_1_23&otracker=search&otracker1=search&fm=organic&iid=24fac71f-5e16-41c4-988a-382a56ee5922.MOBFWAFZNCMVPHMZ.SEARCH&ppt=None&ppn=None&ssid=ieirwlx6m80000001674562841058&qH=21d1d183b6cd5f21', 'https://flipkart.com/iqoo-9-5g-phoenix-128-gb/p/itm110e7ab2f437e?pid=MOBGG8U7H6RGBJVZ&lid=LSTMOBGG8U7H6RGBJVZQJE50F&marketplace=FLIPKART&q=mobiles+under+40000&store=tyy%2F4io&srno=s_1_24&otracker=search&otracker1=search&fm=organic&iid=24fac71f-5e16-41c4-988a-382a56ee5922.MOBGG8U7H6RGBJVZ.SEARCH&ppt=None&ppn=None&ssid=ieirwlx6m80000001674562841058&qH=21d1d183b6cd5f21']\n"
     ]
    }
   ],
   "source": [
    "links = doc.find_all('div',class_=\"_2kHMtA\")\n",
    "base_link = 'https://flipkart.com'\n",
    "\n",
    "URL = []\n",
    "\n",
    "for i in links:\n",
    "    link = i.find('a')['href']\n",
    "    URL.append(base_link + link)\n",
    "\n",
    "Product_URL = URL[:24]\n",
    "print(Product_URL)"
   ]
  },
  {
   "cell_type": "markdown",
   "id": "fba57b5b",
   "metadata": {},
   "source": [
    "### Create Dictionary "
   ]
  },
  {
   "cell_type": "code",
   "execution_count": 13,
   "id": "290a2ae1",
   "metadata": {},
   "outputs": [],
   "source": [
    "phone_dict = {\n",
    "    \"Name\" : Product_Name,\n",
    "    \"Price\" : Product_Price,\n",
    "    \"Description\" : Product_Description,\n",
    "    \"Image_Link\" : Product_Images,\n",
    "    \"URL\" : Product_URL\n",
    "}"
   ]
  },
  {
   "cell_type": "markdown",
   "id": "ee3e4353",
   "metadata": {},
   "source": [
    "### Convert Dictionary into Dataframe"
   ]
  },
  {
   "cell_type": "code",
   "execution_count": 14,
   "id": "7cd90284",
   "metadata": {},
   "outputs": [],
   "source": [
    "page1_phones = pd.DataFrame(phone_dict)"
   ]
  },
  {
   "cell_type": "code",
   "execution_count": 15,
   "id": "0d78b834",
   "metadata": {},
   "outputs": [],
   "source": [
    "page1_phones.to_csv('Phones_details_of_one_page.csv',index=False)"
   ]
  },
  {
   "attachments": {},
   "cell_type": "markdown",
   "id": "f23ec7aa",
   "metadata": {},
   "source": [
    "## Getting Details of 2000+ Phones"
   ]
  },
  {
   "cell_type": "code",
   "execution_count": 16,
   "id": "337abe21",
   "metadata": {},
   "outputs": [],
   "source": [
    "Product_Names = []\n",
    "Product_Price = []\n",
    "Product_Description = []\n",
    "Product_Images = []\n",
    "Product_URL = []"
   ]
  },
  {
   "cell_type": "code",
   "execution_count": 17,
   "id": "e1c3f6d3",
   "metadata": {},
   "outputs": [],
   "source": [
    "for i in range(2,100):\n",
    "    link = \"https://www.flipkart.com/search?q=mobiles+under+40000&otracker=search&otracker1=search&marketplace=FLIPKART&as-show=on&as=off&page-{i}\"\n",
    "    response = requests.get(link)\n",
    "    soup = BeautifulSoup(response.text, 'html.parser')\n",
    "    box = soup.find('div',class_=\"_1YokD2 _3Mn1Gg\")\n",
    "    # print names\n",
    "    names = box.find_all('div',class_= \"_4rR01T\")\n",
    "    for i in names:\n",
    "        Product_Names.append(i.text)\n",
    "    # print price\n",
    "    price = box.find_all('div',class_ = \"_30jeq3 _1_WHN1\")\n",
    "    for i in price:\n",
    "        Product_Price.append(i.text)\n",
    "    # print desc\n",
    "    details = box.find_all('ul',class_=\"_1xgFaf\")\n",
    "    for i in details:\n",
    "        Product_Description.append(i.text)\n",
    "    # print images\n",
    "    images = box.find_all('img',class_=\"_396cs4\")\n",
    "    for i in images:\n",
    "        Product_Images.append(i['src'])\n",
    "    # print url \n",
    "    links = box.find_all('div',class_=\"_2kHMtA\")\n",
    "    base_link = 'https://flipkart.com'\n",
    "    for i in links:\n",
    "        link = i.find('a')['href']\n",
    "        Product_URL.append(base_link + link)"
   ]
  },
  {
   "cell_type": "code",
   "execution_count": 18,
   "id": "ed851817",
   "metadata": {},
   "outputs": [],
   "source": [
    "phones = {\n",
    "    \"Name\" : Product_Names,\n",
    "    \"Price\" : Product_Price,\n",
    "    \"Description\" : Product_Description,\n",
    "    \"Image_Link\" : Product_Images,\n",
    "    \"URL\" : Product_URL\n",
    "}"
   ]
  },
  {
   "cell_type": "code",
   "execution_count": 19,
   "id": "6f1bf374",
   "metadata": {},
   "outputs": [],
   "source": [
    "phone = pd.DataFrame(phones)"
   ]
  },
  {
   "cell_type": "code",
   "execution_count": 20,
   "id": "b1876e50",
   "metadata": {},
   "outputs": [
    {
     "data": {
      "text/html": [
       "<div>\n",
       "<style scoped>\n",
       "    .dataframe tbody tr th:only-of-type {\n",
       "        vertical-align: middle;\n",
       "    }\n",
       "\n",
       "    .dataframe tbody tr th {\n",
       "        vertical-align: top;\n",
       "    }\n",
       "\n",
       "    .dataframe thead th {\n",
       "        text-align: right;\n",
       "    }\n",
       "</style>\n",
       "<table border=\"1\" class=\"dataframe\">\n",
       "  <thead>\n",
       "    <tr style=\"text-align: right;\">\n",
       "      <th></th>\n",
       "      <th>Name</th>\n",
       "      <th>Price</th>\n",
       "      <th>Description</th>\n",
       "      <th>Image_Link</th>\n",
       "      <th>URL</th>\n",
       "    </tr>\n",
       "  </thead>\n",
       "  <tbody>\n",
       "    <tr>\n",
       "      <th>0</th>\n",
       "      <td>APPLE iPhone 11 (White, 64 GB)</td>\n",
       "      <td>₹37,999</td>\n",
       "      <td>64 GB ROM15.49 cm (6.1 inch) Liquid Retina HD ...</td>\n",
       "      <td>https://rukminim1.flixcart.com/image/312/312/k...</td>\n",
       "      <td>https://flipkart.com/apple-iphone-11-white-64-...</td>\n",
       "    </tr>\n",
       "    <tr>\n",
       "      <th>1</th>\n",
       "      <td>APPLE iPhone 11 (Black, 64 GB)</td>\n",
       "      <td>₹37,999</td>\n",
       "      <td>64 GB ROM15.49 cm (6.1 inch) Liquid Retina HD ...</td>\n",
       "      <td>https://rukminim1.flixcart.com/image/312/312/k...</td>\n",
       "      <td>https://flipkart.com/apple-iphone-11-black-64-...</td>\n",
       "    </tr>\n",
       "    <tr>\n",
       "      <th>2</th>\n",
       "      <td>SAMSUNG Galaxy S21 FE 5G (Lavender, 128 GB)</td>\n",
       "      <td>₹39,999</td>\n",
       "      <td>8 GB RAM | 128 GB ROM16.26 cm (6.4 inch) Full ...</td>\n",
       "      <td>https://rukminim1.flixcart.com/image/312/312/k...</td>\n",
       "      <td>https://flipkart.com/samsung-galaxy-s21-fe-5g-...</td>\n",
       "    </tr>\n",
       "    <tr>\n",
       "      <th>3</th>\n",
       "      <td>GREENBERRI VIRAT</td>\n",
       "      <td>₹849</td>\n",
       "      <td>64 MB RAM | 64 MB ROM | Expandable Upto 32 GB4...</td>\n",
       "      <td>https://rukminim1.flixcart.com/image/312/312/x...</td>\n",
       "      <td>https://flipkart.com/greenberri-virat/p/itm58d...</td>\n",
       "    </tr>\n",
       "    <tr>\n",
       "      <th>4</th>\n",
       "      <td>SAMSUNG Galaxy S21 FE 5G (Graphite, 128 GB)</td>\n",
       "      <td>₹39,999</td>\n",
       "      <td>8 GB RAM | 128 GB ROM16.26 cm (6.4 inch) Full ...</td>\n",
       "      <td>https://rukminim1.flixcart.com/image/312/312/k...</td>\n",
       "      <td>https://flipkart.com/samsung-galaxy-s21-fe-5g-...</td>\n",
       "    </tr>\n",
       "    <tr>\n",
       "      <th>...</th>\n",
       "      <td>...</td>\n",
       "      <td>...</td>\n",
       "      <td>...</td>\n",
       "      <td>...</td>\n",
       "      <td>...</td>\n",
       "    </tr>\n",
       "    <tr>\n",
       "      <th>2323</th>\n",
       "      <td>vivo V23 Pro 5G (Stardust Black, 128 GB)</td>\n",
       "      <td>₹38,990</td>\n",
       "      <td>8 GB RAM | 128 GB ROM | Expandable Upto 12 GB1...</td>\n",
       "      <td>https://rukminim1.flixcart.com/image/312/312/k...</td>\n",
       "      <td>https://flipkart.com/vivo-v23-pro-5g-stardust-...</td>\n",
       "    </tr>\n",
       "    <tr>\n",
       "      <th>2324</th>\n",
       "      <td>OnePlus 10R 5G (Sierra Black, 128 GB)</td>\n",
       "      <td>₹38,990</td>\n",
       "      <td>8 GB RAM | 128 GB ROM17.02 cm (6.7 inch) Displ...</td>\n",
       "      <td>https://rukminim1.flixcart.com/image/312/312/l...</td>\n",
       "      <td>https://flipkart.com/oneplus-10r-5g-sierra-bla...</td>\n",
       "    </tr>\n",
       "    <tr>\n",
       "      <th>2325</th>\n",
       "      <td>realme GT Neo 3 (Asphalt Black, 256 GB)</td>\n",
       "      <td>₹38,999</td>\n",
       "      <td>8 GB RAM | 256 GB ROM17.02 cm (6.7 inch) Full ...</td>\n",
       "      <td>https://rukminim1.flixcart.com/image/312/312/l...</td>\n",
       "      <td>https://flipkart.com/realme-gt-neo-3-asphalt-b...</td>\n",
       "    </tr>\n",
       "    <tr>\n",
       "      <th>2326</th>\n",
       "      <td>Mi 10T (Cosmic Black, 128 GB)</td>\n",
       "      <td>₹37,999</td>\n",
       "      <td>8 GB RAM | 128 GB ROM16.94 cm (6.67 inch) Full...</td>\n",
       "      <td>https://rukminim1.flixcart.com/image/312/312/k...</td>\n",
       "      <td>https://flipkart.com/mi-10t-cosmic-black-128-g...</td>\n",
       "    </tr>\n",
       "    <tr>\n",
       "      <th>2327</th>\n",
       "      <td>IQOO 9 5G (Phoenix, 128 GB)</td>\n",
       "      <td>₹34,990</td>\n",
       "      <td>8 GB RAM | 128 GB ROM16.66 cm (6.56 inch) Disp...</td>\n",
       "      <td>https://rukminim1.flixcart.com/image/312/312/l...</td>\n",
       "      <td>https://flipkart.com/iqoo-9-5g-phoenix-128-gb/...</td>\n",
       "    </tr>\n",
       "  </tbody>\n",
       "</table>\n",
       "<p>2328 rows × 5 columns</p>\n",
       "</div>"
      ],
      "text/plain": [
       "                                             Name    Price  \\\n",
       "0                  APPLE iPhone 11 (White, 64 GB)  ₹37,999   \n",
       "1                  APPLE iPhone 11 (Black, 64 GB)  ₹37,999   \n",
       "2     SAMSUNG Galaxy S21 FE 5G (Lavender, 128 GB)  ₹39,999   \n",
       "3                                GREENBERRI VIRAT     ₹849   \n",
       "4     SAMSUNG Galaxy S21 FE 5G (Graphite, 128 GB)  ₹39,999   \n",
       "...                                           ...      ...   \n",
       "2323     vivo V23 Pro 5G (Stardust Black, 128 GB)  ₹38,990   \n",
       "2324        OnePlus 10R 5G (Sierra Black, 128 GB)  ₹38,990   \n",
       "2325      realme GT Neo 3 (Asphalt Black, 256 GB)  ₹38,999   \n",
       "2326                Mi 10T (Cosmic Black, 128 GB)  ₹37,999   \n",
       "2327                  IQOO 9 5G (Phoenix, 128 GB)  ₹34,990   \n",
       "\n",
       "                                            Description  \\\n",
       "0     64 GB ROM15.49 cm (6.1 inch) Liquid Retina HD ...   \n",
       "1     64 GB ROM15.49 cm (6.1 inch) Liquid Retina HD ...   \n",
       "2     8 GB RAM | 128 GB ROM16.26 cm (6.4 inch) Full ...   \n",
       "3     64 MB RAM | 64 MB ROM | Expandable Upto 32 GB4...   \n",
       "4     8 GB RAM | 128 GB ROM16.26 cm (6.4 inch) Full ...   \n",
       "...                                                 ...   \n",
       "2323  8 GB RAM | 128 GB ROM | Expandable Upto 12 GB1...   \n",
       "2324  8 GB RAM | 128 GB ROM17.02 cm (6.7 inch) Displ...   \n",
       "2325  8 GB RAM | 256 GB ROM17.02 cm (6.7 inch) Full ...   \n",
       "2326  8 GB RAM | 128 GB ROM16.94 cm (6.67 inch) Full...   \n",
       "2327  8 GB RAM | 128 GB ROM16.66 cm (6.56 inch) Disp...   \n",
       "\n",
       "                                             Image_Link  \\\n",
       "0     https://rukminim1.flixcart.com/image/312/312/k...   \n",
       "1     https://rukminim1.flixcart.com/image/312/312/k...   \n",
       "2     https://rukminim1.flixcart.com/image/312/312/k...   \n",
       "3     https://rukminim1.flixcart.com/image/312/312/x...   \n",
       "4     https://rukminim1.flixcart.com/image/312/312/k...   \n",
       "...                                                 ...   \n",
       "2323  https://rukminim1.flixcart.com/image/312/312/k...   \n",
       "2324  https://rukminim1.flixcart.com/image/312/312/l...   \n",
       "2325  https://rukminim1.flixcart.com/image/312/312/l...   \n",
       "2326  https://rukminim1.flixcart.com/image/312/312/k...   \n",
       "2327  https://rukminim1.flixcart.com/image/312/312/l...   \n",
       "\n",
       "                                                    URL  \n",
       "0     https://flipkart.com/apple-iphone-11-white-64-...  \n",
       "1     https://flipkart.com/apple-iphone-11-black-64-...  \n",
       "2     https://flipkart.com/samsung-galaxy-s21-fe-5g-...  \n",
       "3     https://flipkart.com/greenberri-virat/p/itm58d...  \n",
       "4     https://flipkart.com/samsung-galaxy-s21-fe-5g-...  \n",
       "...                                                 ...  \n",
       "2323  https://flipkart.com/vivo-v23-pro-5g-stardust-...  \n",
       "2324  https://flipkart.com/oneplus-10r-5g-sierra-bla...  \n",
       "2325  https://flipkart.com/realme-gt-neo-3-asphalt-b...  \n",
       "2326  https://flipkart.com/mi-10t-cosmic-black-128-g...  \n",
       "2327  https://flipkart.com/iqoo-9-5g-phoenix-128-gb/...  \n",
       "\n",
       "[2328 rows x 5 columns]"
      ]
     },
     "execution_count": 20,
     "metadata": {},
     "output_type": "execute_result"
    }
   ],
   "source": [
    "phone"
   ]
  }
 ],
 "metadata": {
  "kernelspec": {
   "display_name": "Python 3",
   "language": "python",
   "name": "python3"
  },
  "language_info": {
   "codemirror_mode": {
    "name": "ipython",
    "version": 3
   },
   "file_extension": ".py",
   "mimetype": "text/x-python",
   "name": "python",
   "nbconvert_exporter": "python",
   "pygments_lexer": "ipython3",
   "version": "3.11.1"
  },
  "vscode": {
   "interpreter": {
    "hash": "64924d34f5c95f261818ee0e41d58b43741dcf0b72677c10b726c1fe86046c0c"
   }
  }
 },
 "nbformat": 4,
 "nbformat_minor": 5
}
